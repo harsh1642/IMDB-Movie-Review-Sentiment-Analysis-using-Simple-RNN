{
 "cells": [
  {
   "cell_type": "code",
   "execution_count": 2,
   "metadata": {},
   "outputs": [],
   "source": [
    "import numpy as np\n",
    "import pandas as pd\n",
    "import tensorflow as tf\n",
    "from tensorflow.keras.datasets import imdb\n",
    "from tensorflow.keras.preprocessing import sequence\n",
    "from tensorflow.keras.layers import Embedding, SimpleRNN, Dense\n",
    "from tensorflow.keras.models import Sequential"
   ]
  },
  {
   "cell_type": "code",
   "execution_count": 3,
   "metadata": {},
   "outputs": [],
   "source": [
    "##mapping of words index back to words\n",
    "word_index = imdb.get_word_index()\n",
    "reverse_word_index = {value : key for key, value in word_index.items()}"
   ]
  },
  {
   "cell_type": "code",
   "execution_count": 9,
   "metadata": {},
   "outputs": [
    {
     "name": "stderr",
     "output_type": "stream",
     "text": [
      "WARNING:absl:Compiled the loaded model, but the compiled metrics have yet to be built. `model.compile_metrics` will be empty until you train or evaluate the model.\n"
     ]
    }
   ],
   "source": [
    "### load the model\n",
    "model = tf.keras.models.load_model('imdb_simple_rnn_model.h5')"
   ]
  },
  {
   "cell_type": "code",
   "execution_count": 10,
   "metadata": {},
   "outputs": [
    {
     "data": {
      "text/html": [
       "<pre style=\"white-space:pre;overflow-x:auto;line-height:normal;font-family:Menlo,'DejaVu Sans Mono',consolas,'Courier New',monospace\"><span style=\"font-weight: bold\">Model: \"sequential_2\"</span>\n",
       "</pre>\n"
      ],
      "text/plain": [
       "\u001b[1mModel: \"sequential_2\"\u001b[0m\n"
      ]
     },
     "metadata": {},
     "output_type": "display_data"
    },
    {
     "data": {
      "text/html": [
       "<pre style=\"white-space:pre;overflow-x:auto;line-height:normal;font-family:Menlo,'DejaVu Sans Mono',consolas,'Courier New',monospace\">┏━━━━━━━━━━━━━━━━━━━━━━━━━━━━━━━━━┳━━━━━━━━━━━━━━━━━━━━━━━━┳━━━━━━━━━━━━━━━┓\n",
       "┃<span style=\"font-weight: bold\"> Layer (type)                    </span>┃<span style=\"font-weight: bold\"> Output Shape           </span>┃<span style=\"font-weight: bold\">       Param # </span>┃\n",
       "┡━━━━━━━━━━━━━━━━━━━━━━━━━━━━━━━━━╇━━━━━━━━━━━━━━━━━━━━━━━━╇━━━━━━━━━━━━━━━┩\n",
       "│ embedding_2 (<span style=\"color: #0087ff; text-decoration-color: #0087ff\">Embedding</span>)         │ (<span style=\"color: #00d7ff; text-decoration-color: #00d7ff\">None</span>, <span style=\"color: #00af00; text-decoration-color: #00af00\">500</span>, <span style=\"color: #00af00; text-decoration-color: #00af00\">128</span>)       │     <span style=\"color: #00af00; text-decoration-color: #00af00\">1,280,000</span> │\n",
       "├─────────────────────────────────┼────────────────────────┼───────────────┤\n",
       "│ simple_rnn_2 (<span style=\"color: #0087ff; text-decoration-color: #0087ff\">SimpleRNN</span>)        │ (<span style=\"color: #00d7ff; text-decoration-color: #00d7ff\">None</span>, <span style=\"color: #00af00; text-decoration-color: #00af00\">128</span>)            │        <span style=\"color: #00af00; text-decoration-color: #00af00\">32,896</span> │\n",
       "├─────────────────────────────────┼────────────────────────┼───────────────┤\n",
       "│ dense_2 (<span style=\"color: #0087ff; text-decoration-color: #0087ff\">Dense</span>)                 │ (<span style=\"color: #00d7ff; text-decoration-color: #00d7ff\">None</span>, <span style=\"color: #00af00; text-decoration-color: #00af00\">1</span>)              │           <span style=\"color: #00af00; text-decoration-color: #00af00\">129</span> │\n",
       "└─────────────────────────────────┴────────────────────────┴───────────────┘\n",
       "</pre>\n"
      ],
      "text/plain": [
       "┏━━━━━━━━━━━━━━━━━━━━━━━━━━━━━━━━━┳━━━━━━━━━━━━━━━━━━━━━━━━┳━━━━━━━━━━━━━━━┓\n",
       "┃\u001b[1m \u001b[0m\u001b[1mLayer (type)                   \u001b[0m\u001b[1m \u001b[0m┃\u001b[1m \u001b[0m\u001b[1mOutput Shape          \u001b[0m\u001b[1m \u001b[0m┃\u001b[1m \u001b[0m\u001b[1m      Param #\u001b[0m\u001b[1m \u001b[0m┃\n",
       "┡━━━━━━━━━━━━━━━━━━━━━━━━━━━━━━━━━╇━━━━━━━━━━━━━━━━━━━━━━━━╇━━━━━━━━━━━━━━━┩\n",
       "│ embedding_2 (\u001b[38;5;33mEmbedding\u001b[0m)         │ (\u001b[38;5;45mNone\u001b[0m, \u001b[38;5;34m500\u001b[0m, \u001b[38;5;34m128\u001b[0m)       │     \u001b[38;5;34m1,280,000\u001b[0m │\n",
       "├─────────────────────────────────┼────────────────────────┼───────────────┤\n",
       "│ simple_rnn_2 (\u001b[38;5;33mSimpleRNN\u001b[0m)        │ (\u001b[38;5;45mNone\u001b[0m, \u001b[38;5;34m128\u001b[0m)            │        \u001b[38;5;34m32,896\u001b[0m │\n",
       "├─────────────────────────────────┼────────────────────────┼───────────────┤\n",
       "│ dense_2 (\u001b[38;5;33mDense\u001b[0m)                 │ (\u001b[38;5;45mNone\u001b[0m, \u001b[38;5;34m1\u001b[0m)              │           \u001b[38;5;34m129\u001b[0m │\n",
       "└─────────────────────────────────┴────────────────────────┴───────────────┘\n"
      ]
     },
     "metadata": {},
     "output_type": "display_data"
    },
    {
     "data": {
      "text/html": [
       "<pre style=\"white-space:pre;overflow-x:auto;line-height:normal;font-family:Menlo,'DejaVu Sans Mono',consolas,'Courier New',monospace\"><span style=\"font-weight: bold\"> Total params: </span><span style=\"color: #00af00; text-decoration-color: #00af00\">1,313,027</span> (5.01 MB)\n",
       "</pre>\n"
      ],
      "text/plain": [
       "\u001b[1m Total params: \u001b[0m\u001b[38;5;34m1,313,027\u001b[0m (5.01 MB)\n"
      ]
     },
     "metadata": {},
     "output_type": "display_data"
    },
    {
     "data": {
      "text/html": [
       "<pre style=\"white-space:pre;overflow-x:auto;line-height:normal;font-family:Menlo,'DejaVu Sans Mono',consolas,'Courier New',monospace\"><span style=\"font-weight: bold\"> Trainable params: </span><span style=\"color: #00af00; text-decoration-color: #00af00\">1,313,025</span> (5.01 MB)\n",
       "</pre>\n"
      ],
      "text/plain": [
       "\u001b[1m Trainable params: \u001b[0m\u001b[38;5;34m1,313,025\u001b[0m (5.01 MB)\n"
      ]
     },
     "metadata": {},
     "output_type": "display_data"
    },
    {
     "data": {
      "text/html": [
       "<pre style=\"white-space:pre;overflow-x:auto;line-height:normal;font-family:Menlo,'DejaVu Sans Mono',consolas,'Courier New',monospace\"><span style=\"font-weight: bold\"> Non-trainable params: </span><span style=\"color: #00af00; text-decoration-color: #00af00\">0</span> (0.00 B)\n",
       "</pre>\n"
      ],
      "text/plain": [
       "\u001b[1m Non-trainable params: \u001b[0m\u001b[38;5;34m0\u001b[0m (0.00 B)\n"
      ]
     },
     "metadata": {},
     "output_type": "display_data"
    },
    {
     "data": {
      "text/html": [
       "<pre style=\"white-space:pre;overflow-x:auto;line-height:normal;font-family:Menlo,'DejaVu Sans Mono',consolas,'Courier New',monospace\"><span style=\"font-weight: bold\"> Optimizer params: </span><span style=\"color: #00af00; text-decoration-color: #00af00\">2</span> (12.00 B)\n",
       "</pre>\n"
      ],
      "text/plain": [
       "\u001b[1m Optimizer params: \u001b[0m\u001b[38;5;34m2\u001b[0m (12.00 B)\n"
      ]
     },
     "metadata": {},
     "output_type": "display_data"
    }
   ],
   "source": [
    "model.summary()"
   ]
  },
  {
   "cell_type": "code",
   "execution_count": 11,
   "metadata": {},
   "outputs": [
    {
     "data": {
      "text/plain": [
       "[array([[-0.63776064,  0.5395125 , -0.5944699 , ..., -0.6546634 ,\n",
       "         -0.6531822 ,  0.5116626 ],\n",
       "        [-0.0110269 , -0.00324033, -0.06971042, ..., -0.07375167,\n",
       "         -0.07781928, -0.01288791],\n",
       "        [-0.07897726,  0.07044562, -0.05274137, ..., -0.10280399,\n",
       "         -0.09231635, -0.0100711 ],\n",
       "        ...,\n",
       "        [ 0.12033587, -0.12153335,  0.06708848, ...,  0.0251317 ,\n",
       "          0.07321858, -0.04982876],\n",
       "        [-0.04606383,  0.08309858, -0.0191198 , ..., -0.0484902 ,\n",
       "         -0.00074163,  0.02462686],\n",
       "        [ 0.06892313, -0.16052486,  0.05515693, ...,  0.05934944,\n",
       "          0.09021718, -0.05402846]], dtype=float32),\n",
       " array([[ 0.08859476,  0.05648375,  0.10746554, ..., -0.11488292,\n",
       "         -0.08246658,  0.04141431],\n",
       "        [-0.02596907,  0.09559734, -0.12253503, ..., -0.02934038,\n",
       "          0.1438488 ,  0.10099096],\n",
       "        [-0.1434204 , -0.07001289, -0.02753167, ..., -0.02354799,\n",
       "         -0.0595927 ,  0.13674854],\n",
       "        ...,\n",
       "        [ 0.13400489,  0.08704632,  0.07911955, ...,  0.00378722,\n",
       "          0.13338682,  0.14242639],\n",
       "        [ 0.07343856, -0.02629803, -0.0525767 , ..., -0.00935421,\n",
       "          0.13195042,  0.11020393],\n",
       "        [-0.0672273 , -0.02556732, -0.14920074, ..., -0.09418943,\n",
       "         -0.04682663,  0.10024542]], dtype=float32),\n",
       " array([[ 0.07414442,  0.03678605,  0.11727347, ...,  0.06016616,\n",
       "         -0.00158821, -0.12902947],\n",
       "        [ 0.07643978, -0.12891266, -0.07623545, ...,  0.07914202,\n",
       "          0.09448858,  0.07028934],\n",
       "        [ 0.10252608,  0.10373583, -0.06437081, ..., -0.07761034,\n",
       "          0.03119898, -0.03572802],\n",
       "        ...,\n",
       "        [-0.07443735,  0.09800863,  0.0131345 , ...,  0.04356448,\n",
       "         -0.17431979,  0.02938521],\n",
       "        [-0.14891525,  0.01583394,  0.10910128, ..., -0.0638584 ,\n",
       "         -0.01483322,  0.08496775],\n",
       "        [-0.13851899, -0.02757315,  0.03087193, ...,  0.00390968,\n",
       "         -0.13604806,  0.06297029]], dtype=float32),\n",
       " array([-1.45584485e-02,  4.11614217e-03, -6.33470109e-03, -2.04100888e-02,\n",
       "        -1.69516578e-02, -1.02826860e-02,  1.39978807e-02, -1.16954902e-02,\n",
       "         3.20918970e-02, -2.56030597e-02,  1.20336860e-02, -1.50911594e-02,\n",
       "        -7.20892195e-03, -1.42718730e-02,  6.60496857e-03,  2.28746887e-02,\n",
       "         7.93313701e-03, -2.36439183e-02,  3.40433535e-03,  7.18283001e-03,\n",
       "        -1.21915909e-02, -1.10081872e-02,  4.37846780e-03, -1.27974423e-02,\n",
       "        -1.79550461e-02,  2.20410489e-02, -3.13453935e-02,  3.06969858e-03,\n",
       "        -1.64277628e-02, -1.49416225e-02, -1.77933984e-02, -3.59621913e-06,\n",
       "         2.93685496e-02, -1.64389685e-02,  1.20981419e-02, -1.82958879e-02,\n",
       "         4.22496116e-03, -2.17165854e-02,  2.05207476e-03, -2.16148421e-02,\n",
       "         1.19632212e-02,  1.20206485e-02,  3.51590551e-02, -1.98175218e-02,\n",
       "        -1.66348126e-02, -1.44103775e-02,  5.23050409e-03, -9.43542831e-03,\n",
       "        -9.69454739e-03,  3.81530524e-04,  2.54879445e-02, -6.53027883e-03,\n",
       "        -1.79252215e-02, -3.56047228e-02, -1.01119559e-02,  3.13032605e-02,\n",
       "         2.56813224e-02,  2.01828871e-02,  2.95733381e-02,  1.63403545e-02,\n",
       "         6.75222662e-04,  8.43611080e-03, -1.73214525e-02, -1.21192504e-02,\n",
       "        -5.21832611e-03, -2.29407754e-02, -1.53432470e-02, -1.62498020e-02,\n",
       "        -1.44691980e-02,  8.17450753e-04, -2.16416717e-02, -6.46546716e-03,\n",
       "        -1.61479060e-02, -2.03046128e-02,  3.35688330e-02,  2.21204828e-03,\n",
       "        -2.96763936e-03, -1.42735029e-02, -1.41993286e-02,  1.40541429e-02,\n",
       "        -1.47700133e-02, -2.07384322e-02,  4.22728173e-02, -2.16546096e-02,\n",
       "        -1.43865896e-02,  1.64535735e-02,  9.02734045e-03,  1.46155320e-02,\n",
       "         3.16410735e-02, -1.26031293e-02, -1.79127622e-02,  1.41332559e-02,\n",
       "        -2.64711864e-02, -6.06544316e-03,  1.55801242e-02, -9.78810992e-03,\n",
       "        -1.35200350e-02, -1.97775755e-02,  1.42383585e-02, -2.01216247e-02,\n",
       "        -1.73569899e-02,  6.75367611e-03, -2.85717752e-02,  1.57859027e-02,\n",
       "         3.24120969e-02, -1.99685879e-02, -1.48040745e-02, -1.04920578e-03,\n",
       "        -1.40796239e-02, -2.99979397e-03,  1.99650079e-01,  2.86544822e-02,\n",
       "        -1.45264035e-02,  5.17596826e-02, -2.74681319e-02,  3.03375395e-03,\n",
       "        -3.85153405e-02, -1.93142928e-02, -2.02553738e-02, -1.10137286e-02,\n",
       "         2.04275418e-02,  9.74998623e-03,  9.89953522e-04, -1.43067958e-02,\n",
       "        -3.00303325e-02,  1.18502071e-02,  1.50928623e-03, -1.58225279e-02],\n",
       "       dtype=float32),\n",
       " array([[-4.71513182e-01],\n",
       "        [-2.50409424e-01],\n",
       "        [-9.81628373e-02],\n",
       "        [-6.52977750e-02],\n",
       "        [ 1.81237295e-01],\n",
       "        [ 8.01386014e-02],\n",
       "        [-1.37059659e-01],\n",
       "        [-1.58373922e-01],\n",
       "        [-4.08727080e-01],\n",
       "        [-1.69410318e-01],\n",
       "        [-4.86380368e-01],\n",
       "        [ 3.01128626e-02],\n",
       "        [-8.54445063e-03],\n",
       "        [ 1.26703054e-01],\n",
       "        [-9.54784825e-02],\n",
       "        [-1.09051533e-01],\n",
       "        [-2.82286525e-01],\n",
       "        [ 1.65933251e-01],\n",
       "        [-1.84093162e-01],\n",
       "        [-4.55581117e-03],\n",
       "        [ 1.37707412e-01],\n",
       "        [-1.24796979e-01],\n",
       "        [ 5.47041073e-02],\n",
       "        [ 1.92894503e-01],\n",
       "        [-7.44775310e-03],\n",
       "        [ 4.64810478e-03],\n",
       "        [ 1.62295043e-01],\n",
       "        [ 1.90284196e-02],\n",
       "        [-4.79772314e-02],\n",
       "        [-1.94137841e-01],\n",
       "        [-3.39882076e-02],\n",
       "        [-1.18301876e-01],\n",
       "        [ 9.31773856e-02],\n",
       "        [ 1.09911030e-02],\n",
       "        [-1.93464652e-01],\n",
       "        [-1.54447377e-01],\n",
       "        [ 1.36713594e-01],\n",
       "        [-8.71772598e-03],\n",
       "        [-4.00005102e-01],\n",
       "        [ 5.50263345e-01],\n",
       "        [-3.89959253e-02],\n",
       "        [ 1.56838164e-01],\n",
       "        [-1.34309798e-01],\n",
       "        [ 2.33984470e-01],\n",
       "        [ 1.14465877e-01],\n",
       "        [-1.18171953e-01],\n",
       "        [ 3.28518525e-02],\n",
       "        [-1.43813842e-03],\n",
       "        [-2.02779815e-01],\n",
       "        [ 2.41698161e-01],\n",
       "        [-2.79400975e-01],\n",
       "        [-2.29341835e-01],\n",
       "        [ 1.56845242e-01],\n",
       "        [ 2.50891954e-01],\n",
       "        [-4.53933328e-02],\n",
       "        [-1.97780393e-02],\n",
       "        [-1.53170139e-01],\n",
       "        [ 7.27814361e-02],\n",
       "        [-1.54271200e-01],\n",
       "        [ 3.44805509e-01],\n",
       "        [-2.17966557e-01],\n",
       "        [ 1.33616865e-01],\n",
       "        [ 1.88896835e-01],\n",
       "        [-1.25968277e-01],\n",
       "        [ 1.61398619e-01],\n",
       "        [ 1.62327677e-01],\n",
       "        [-1.97087124e-01],\n",
       "        [-2.09555272e-02],\n",
       "        [ 1.89214021e-01],\n",
       "        [-4.94047612e-01],\n",
       "        [-1.33359190e-02],\n",
       "        [-1.36658579e-01],\n",
       "        [ 2.10247666e-01],\n",
       "        [ 2.79342413e-01],\n",
       "        [-4.02709812e-01],\n",
       "        [-1.25457615e-01],\n",
       "        [ 1.89898670e-01],\n",
       "        [ 5.61157763e-02],\n",
       "        [-1.07890658e-01],\n",
       "        [ 4.30071682e-01],\n",
       "        [ 2.21844375e-01],\n",
       "        [ 2.09561661e-01],\n",
       "        [-6.00695163e-02],\n",
       "        [ 6.04868755e-02],\n",
       "        [-1.78057235e-02],\n",
       "        [-1.03950761e-01],\n",
       "        [ 2.47736853e-02],\n",
       "        [ 1.15587510e-01],\n",
       "        [-2.51802504e-01],\n",
       "        [-1.79285824e-01],\n",
       "        [-9.71589461e-02],\n",
       "        [-1.97907314e-01],\n",
       "        [ 1.29549906e-01],\n",
       "        [ 8.90559256e-02],\n",
       "        [ 1.79785848e-01],\n",
       "        [-3.22528392e-01],\n",
       "        [-9.28252190e-03],\n",
       "        [ 2.16138139e-01],\n",
       "        [-3.46452557e-02],\n",
       "        [ 1.07320718e-01],\n",
       "        [ 1.92717090e-01],\n",
       "        [ 8.83219615e-02],\n",
       "        [-1.44383177e-01],\n",
       "        [-3.28139961e-01],\n",
       "        [-1.40079007e-01],\n",
       "        [-3.18507850e-02],\n",
       "        [ 3.89447920e-02],\n",
       "        [ 1.51005492e-01],\n",
       "        [-7.85745904e-02],\n",
       "        [-4.96531278e-02],\n",
       "        [-2.22444423e-02],\n",
       "        [ 2.95857154e-02],\n",
       "        [ 5.28285541e-02],\n",
       "        [ 7.23051906e-01],\n",
       "        [ 2.20844314e-01],\n",
       "        [ 8.16253662e-01],\n",
       "        [ 7.92017356e-02],\n",
       "        [ 1.25991821e-01],\n",
       "        [ 1.74577832e-01],\n",
       "        [ 2.55996287e-02],\n",
       "        [-1.42782141e-04],\n",
       "        [-2.54557699e-01],\n",
       "        [-2.40901671e-02],\n",
       "        [-4.99618575e-02],\n",
       "        [-7.50848278e-03],\n",
       "        [ 1.32250637e-01],\n",
       "        [-2.26469487e-01],\n",
       "        [ 4.01142053e-02]], dtype=float32),\n",
       " array([0.35920787], dtype=float32)]"
      ]
     },
     "execution_count": 11,
     "metadata": {},
     "output_type": "execute_result"
    }
   ],
   "source": [
    "model.get_weights()"
   ]
  },
  {
   "cell_type": "code",
   "execution_count": 14,
   "metadata": {},
   "outputs": [],
   "source": [
    "# function to decode reviews\n",
    "def decoded_review(encoded_review):\n",
    "    return ' '.join(reverse_word_index.get(i-3,'?') for i in encoded_review)\n",
    "\n",
    "# function to preprocess user input\n",
    "def preprocess_text(text):\n",
    "    words = text.lower().split()\n",
    "    encoded_review =[word_index.get(word,2) +3 for word in words]\n",
    "    padded_review = sequence.pad_sequences([encoded_review],maxlen=500)\n",
    "    return padded_review"
   ]
  },
  {
   "cell_type": "code",
   "execution_count": 15,
   "metadata": {},
   "outputs": [],
   "source": [
    "## prediction function\n",
    "def predict_sentiment(review):\n",
    "    preprocessed_input = preprocess_text(review)\n",
    "\n",
    "    prediction = model.predict(preprocessed_input)\n",
    "\n",
    "    sentiment = \"Positive\" if prediction[0][0] > 0.5 else \"Negative\"\n",
    "\n",
    "    return sentiment, prediction[0][0]"
   ]
  },
  {
   "cell_type": "code",
   "execution_count": 18,
   "metadata": {},
   "outputs": [
    {
     "name": "stdout",
     "output_type": "stream",
     "text": [
      "\u001b[1m1/1\u001b[0m \u001b[32m━━━━━━━━━━━━━━━━━━━━\u001b[0m\u001b[37m\u001b[0m \u001b[1m0s\u001b[0m 200ms/step\n",
      "Review: This movie is good! The acting was great and the plot was thrilling\n",
      "Sentiment: Positive\n",
      "Prediction score: 0.6885746121406555\n"
     ]
    }
   ],
   "source": [
    "# user input and prediction\n",
    "\n",
    "example_review = \"This movie is good! The acting was great and the plot was thrilling\"\n",
    "\n",
    "sentiment, score = predict_sentiment(example_review)\n",
    "\n",
    "print(f\"Review: {example_review}\")\n",
    "print(f\"Sentiment: {sentiment}\")\n",
    "print(f\"Prediction score: {score}\")"
   ]
  },
  {
   "cell_type": "code",
   "execution_count": null,
   "metadata": {},
   "outputs": [],
   "source": []
  }
 ],
 "metadata": {
  "kernelspec": {
   "display_name": "Python 3",
   "language": "python",
   "name": "python3"
  },
  "language_info": {
   "codemirror_mode": {
    "name": "ipython",
    "version": 3
   },
   "file_extension": ".py",
   "mimetype": "text/x-python",
   "name": "python",
   "nbconvert_exporter": "python",
   "pygments_lexer": "ipython3",
   "version": "3.12.0"
  }
 },
 "nbformat": 4,
 "nbformat_minor": 2
}
